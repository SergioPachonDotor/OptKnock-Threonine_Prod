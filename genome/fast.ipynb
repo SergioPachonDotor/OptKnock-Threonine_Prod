{
 "cells": [
  {
   "cell_type": "code",
   "execution_count": 10,
   "metadata": {},
   "outputs": [
    {
     "name": "stdout",
     "output_type": "stream",
     "text": [
      "Read LP format model from file /tmp/tmp3u6h2_b9.lp\n",
      "Reading time = 0.03 seconds\n",
      ": 1668 rows, 4744 columns, 18248 nonzeros\n",
      "Read LP format model from file /tmp/tmpw1h9c812.lp\n",
      "Reading time = 0.01 seconds\n",
      ": 79 rows, 20 columns, 214 nonzeros\n"
     ]
    },
    {
     "ename": "Infeasible",
     "evalue": "gap filling optimization failed (infeasible).",
     "output_type": "error",
     "traceback": [
      "\u001b[0;31m---------------------------------------------------------------------------\u001b[0m",
      "\u001b[0;31mInfeasible\u001b[0m                                Traceback (most recent call last)",
      "\u001b[1;32m/mnt/c/Users/sap98/Desktop/My_Stuff/programming/Uniandes/HCIM/P2/cameo/Proyecto_2_optKnock/genome/fast.ipynb Cell 1'\u001b[0m in \u001b[0;36m<cell line: 15>\u001b[0;34m()\u001b[0m\n\u001b[1;32m     <a href='vscode-notebook-cell://wsl%2Bubuntu/mnt/c/Users/sap98/Desktop/My_Stuff/programming/Uniandes/HCIM/P2/cameo/Proyecto_2_optKnock/genome/fast.ipynb#ch0000000vscode-remote?line=12'>13</a>\u001b[0m     model\u001b[39m.\u001b[39mremove_reactions([reaction])\n\u001b[1;32m     <a href='vscode-notebook-cell://wsl%2Bubuntu/mnt/c/Users/sap98/Desktop/My_Stuff/programming/Uniandes/HCIM/P2/cameo/Proyecto_2_optKnock/genome/fast.ipynb#ch0000000vscode-remote?line=14'>15</a>\u001b[0m \u001b[39mwith\u001b[39;00m model:\n\u001b[0;32m---> <a href='vscode-notebook-cell://wsl%2Bubuntu/mnt/c/Users/sap98/Desktop/My_Stuff/programming/Uniandes/HCIM/P2/cameo/Proyecto_2_optKnock/genome/fast.ipynb#ch0000000vscode-remote?line=15'>16</a>\u001b[0m     solution \u001b[39m=\u001b[39m gapfill(model, universal, demand_reactions\u001b[39m=\u001b[39;49m\u001b[39mFalse\u001b[39;49;00m)\n\u001b[1;32m     <a href='vscode-notebook-cell://wsl%2Bubuntu/mnt/c/Users/sap98/Desktop/My_Stuff/programming/Uniandes/HCIM/P2/cameo/Proyecto_2_optKnock/genome/fast.ipynb#ch0000000vscode-remote?line=16'>17</a>\u001b[0m     \u001b[39mfor\u001b[39;00m reaction \u001b[39min\u001b[39;00m solution[\u001b[39m0\u001b[39m]:\n\u001b[1;32m     <a href='vscode-notebook-cell://wsl%2Bubuntu/mnt/c/Users/sap98/Desktop/My_Stuff/programming/Uniandes/HCIM/P2/cameo/Proyecto_2_optKnock/genome/fast.ipynb#ch0000000vscode-remote?line=17'>18</a>\u001b[0m         \u001b[39mprint\u001b[39m(reaction\u001b[39m.\u001b[39mid)\n",
      "File \u001b[0;32m~/anaconda3/envs/synbio/lib/python3.9/site-packages/cobra/flux_analysis/gapfilling.py:407\u001b[0m, in \u001b[0;36mgapfill\u001b[0;34m(model, universal, lower_bound, penalties, demand_reactions, exchange_reactions, iterations)\u001b[0m\n\u001b[1;32m    <a href='file:///home/sergio/anaconda3/envs/synbio/lib/python3.9/site-packages/cobra/flux_analysis/gapfilling.py?line=347'>348</a>\u001b[0m \u001b[39m\"\"\"Perform gap filling on a model.\u001b[39;00m\n\u001b[1;32m    <a href='file:///home/sergio/anaconda3/envs/synbio/lib/python3.9/site-packages/cobra/flux_analysis/gapfilling.py?line=348'>349</a>\u001b[0m \n\u001b[1;32m    <a href='file:///home/sergio/anaconda3/envs/synbio/lib/python3.9/site-packages/cobra/flux_analysis/gapfilling.py?line=349'>350</a>\u001b[0m \u001b[39mParameters\u001b[39;00m\n\u001b[0;32m   (...)\u001b[0m\n\u001b[1;32m    <a href='file:///home/sergio/anaconda3/envs/synbio/lib/python3.9/site-packages/cobra/flux_analysis/gapfilling.py?line=396'>397</a>\u001b[0m \n\u001b[1;32m    <a href='file:///home/sergio/anaconda3/envs/synbio/lib/python3.9/site-packages/cobra/flux_analysis/gapfilling.py?line=397'>398</a>\u001b[0m \u001b[39m\"\"\"\u001b[39;00m\n\u001b[1;32m    <a href='file:///home/sergio/anaconda3/envs/synbio/lib/python3.9/site-packages/cobra/flux_analysis/gapfilling.py?line=398'>399</a>\u001b[0m gapfiller \u001b[39m=\u001b[39m GapFiller(\n\u001b[1;32m    <a href='file:///home/sergio/anaconda3/envs/synbio/lib/python3.9/site-packages/cobra/flux_analysis/gapfilling.py?line=399'>400</a>\u001b[0m     model,\n\u001b[1;32m    <a href='file:///home/sergio/anaconda3/envs/synbio/lib/python3.9/site-packages/cobra/flux_analysis/gapfilling.py?line=400'>401</a>\u001b[0m     universal\u001b[39m=\u001b[39muniversal,\n\u001b[0;32m   (...)\u001b[0m\n\u001b[1;32m    <a href='file:///home/sergio/anaconda3/envs/synbio/lib/python3.9/site-packages/cobra/flux_analysis/gapfilling.py?line=404'>405</a>\u001b[0m     exchange_reactions\u001b[39m=\u001b[39mexchange_reactions,\n\u001b[1;32m    <a href='file:///home/sergio/anaconda3/envs/synbio/lib/python3.9/site-packages/cobra/flux_analysis/gapfilling.py?line=405'>406</a>\u001b[0m )\n\u001b[0;32m--> <a href='file:///home/sergio/anaconda3/envs/synbio/lib/python3.9/site-packages/cobra/flux_analysis/gapfilling.py?line=406'>407</a>\u001b[0m \u001b[39mreturn\u001b[39;00m gapfiller\u001b[39m.\u001b[39;49mfill(iterations\u001b[39m=\u001b[39;49miterations)\n",
      "File \u001b[0;32m~/anaconda3/envs/synbio/lib/python3.9/site-packages/cobra/flux_analysis/gapfilling.py:296\u001b[0m, in \u001b[0;36mGapFiller.fill\u001b[0;34m(self, iterations)\u001b[0m\n\u001b[1;32m    <a href='file:///home/sergio/anaconda3/envs/synbio/lib/python3.9/site-packages/cobra/flux_analysis/gapfilling.py?line=293'>294</a>\u001b[0m used_reactions \u001b[39m=\u001b[39m []\n\u001b[1;32m    <a href='file:///home/sergio/anaconda3/envs/synbio/lib/python3.9/site-packages/cobra/flux_analysis/gapfilling.py?line=294'>295</a>\u001b[0m \u001b[39mfor\u001b[39;00m _ \u001b[39min\u001b[39;00m \u001b[39mrange\u001b[39m(iterations):\n\u001b[0;32m--> <a href='file:///home/sergio/anaconda3/envs/synbio/lib/python3.9/site-packages/cobra/flux_analysis/gapfilling.py?line=295'>296</a>\u001b[0m     \u001b[39mself\u001b[39;49m\u001b[39m.\u001b[39;49mmodel\u001b[39m.\u001b[39;49mslim_optimize(\n\u001b[1;32m    <a href='file:///home/sergio/anaconda3/envs/synbio/lib/python3.9/site-packages/cobra/flux_analysis/gapfilling.py?line=296'>297</a>\u001b[0m         error_value\u001b[39m=\u001b[39;49m\u001b[39mNone\u001b[39;49;00m, message\u001b[39m=\u001b[39;49m\u001b[39m\"\u001b[39;49m\u001b[39mgap filling optimization failed\u001b[39;49m\u001b[39m\"\u001b[39;49m\n\u001b[1;32m    <a href='file:///home/sergio/anaconda3/envs/synbio/lib/python3.9/site-packages/cobra/flux_analysis/gapfilling.py?line=297'>298</a>\u001b[0m     )\n\u001b[1;32m    <a href='file:///home/sergio/anaconda3/envs/synbio/lib/python3.9/site-packages/cobra/flux_analysis/gapfilling.py?line=298'>299</a>\u001b[0m     solution \u001b[39m=\u001b[39m [\n\u001b[1;32m    <a href='file:///home/sergio/anaconda3/envs/synbio/lib/python3.9/site-packages/cobra/flux_analysis/gapfilling.py?line=299'>300</a>\u001b[0m         \u001b[39mself\u001b[39m\u001b[39m.\u001b[39mmodel\u001b[39m.\u001b[39mreactions\u001b[39m.\u001b[39mget_by_id(ind\u001b[39m.\u001b[39mrxn_id)\n\u001b[1;32m    <a href='file:///home/sergio/anaconda3/envs/synbio/lib/python3.9/site-packages/cobra/flux_analysis/gapfilling.py?line=300'>301</a>\u001b[0m         \u001b[39mfor\u001b[39;00m ind \u001b[39min\u001b[39;00m \u001b[39mself\u001b[39m\u001b[39m.\u001b[39mindicators\n\u001b[1;32m    <a href='file:///home/sergio/anaconda3/envs/synbio/lib/python3.9/site-packages/cobra/flux_analysis/gapfilling.py?line=301'>302</a>\u001b[0m         \u001b[39mif\u001b[39;00m ind\u001b[39m.\u001b[39m_get_primal() \u001b[39m>\u001b[39m \u001b[39mself\u001b[39m\u001b[39m.\u001b[39minteger_threshold\n\u001b[1;32m    <a href='file:///home/sergio/anaconda3/envs/synbio/lib/python3.9/site-packages/cobra/flux_analysis/gapfilling.py?line=302'>303</a>\u001b[0m     ]\n\u001b[1;32m    <a href='file:///home/sergio/anaconda3/envs/synbio/lib/python3.9/site-packages/cobra/flux_analysis/gapfilling.py?line=303'>304</a>\u001b[0m     \u001b[39mif\u001b[39;00m \u001b[39mnot\u001b[39;00m \u001b[39mself\u001b[39m\u001b[39m.\u001b[39mvalidate(solution):\n",
      "File \u001b[0;32m~/anaconda3/envs/synbio/lib/python3.9/site-packages/cobra/core/model.py:1067\u001b[0m, in \u001b[0;36mModel.slim_optimize\u001b[0;34m(self, error_value, message)\u001b[0m\n\u001b[1;32m   <a href='file:///home/sergio/anaconda3/envs/synbio/lib/python3.9/site-packages/cobra/core/model.py?line=1064'>1065</a>\u001b[0m     \u001b[39mreturn\u001b[39;00m error_value\n\u001b[1;32m   <a href='file:///home/sergio/anaconda3/envs/synbio/lib/python3.9/site-packages/cobra/core/model.py?line=1065'>1066</a>\u001b[0m \u001b[39melse\u001b[39;00m:\n\u001b[0;32m-> <a href='file:///home/sergio/anaconda3/envs/synbio/lib/python3.9/site-packages/cobra/core/model.py?line=1066'>1067</a>\u001b[0m     assert_optimal(\u001b[39mself\u001b[39;49m, message)\n",
      "File \u001b[0;32m~/anaconda3/envs/synbio/lib/python3.9/site-packages/cobra/util/solver.py:590\u001b[0m, in \u001b[0;36massert_optimal\u001b[0;34m(model, message)\u001b[0m\n\u001b[1;32m    <a href='file:///home/sergio/anaconda3/envs/synbio/lib/python3.9/site-packages/cobra/util/solver.py?line=587'>588</a>\u001b[0m \u001b[39mif\u001b[39;00m status \u001b[39m!=\u001b[39m OPTIMAL:\n\u001b[1;32m    <a href='file:///home/sergio/anaconda3/envs/synbio/lib/python3.9/site-packages/cobra/util/solver.py?line=588'>589</a>\u001b[0m     exception_cls \u001b[39m=\u001b[39m OPTLANG_TO_EXCEPTIONS_DICT\u001b[39m.\u001b[39mget(status, OptimizationError)\n\u001b[0;32m--> <a href='file:///home/sergio/anaconda3/envs/synbio/lib/python3.9/site-packages/cobra/util/solver.py?line=589'>590</a>\u001b[0m     \u001b[39mraise\u001b[39;00m exception_cls(\u001b[39mf\u001b[39m\u001b[39m\"\u001b[39m\u001b[39m{\u001b[39;00mmessage\u001b[39m}\u001b[39;00m\u001b[39m (\u001b[39m\u001b[39m{\u001b[39;00mstatus\u001b[39m}\u001b[39;00m\u001b[39m).\u001b[39m\u001b[39m\"\u001b[39m)\n",
      "\u001b[0;31mInfeasible\u001b[0m: gap filling optimization failed (infeasible)."
     ]
    }
   ],
   "source": [
    "from cameo import load_model\n",
    "from cobra.flux_analysis import gapfill\n",
    "import cobra\n",
    "\n",
    "model = load_model('./iAF1260.xml')\n",
    "model.solver = 'gurobi'\n",
    "model.objective='THRS'\n",
    "\n",
    "universal = cobra.Model(\"universal_reactions\")\n",
    "for i in [i.id for i in model.metabolites.thr__L_c.reactions]:\n",
    "    reaction = model.reactions.get_by_id(i)\n",
    "    universal.add_reaction(reaction.copy())\n",
    "    model.remove_reactions([reaction])\n",
    "\n",
    "with model:\n",
    "    solution = gapfill(model, universal, demand_reactions=False)\n",
    "    for reaction in solution[0]:\n",
    "        print(reaction.id)"
   ]
  },
  {
   "cell_type": "code",
   "execution_count": null,
   "metadata": {},
   "outputs": [
    {
     "data": {
      "text/plain": [
       "[[]]"
      ]
     },
     "execution_count": 9,
     "metadata": {},
     "output_type": "execute_result"
    }
   ],
   "source": [
    "solution"
   ]
  }
 ],
 "metadata": {
  "interpreter": {
   "hash": "bc36f5ec3686263487aae88a1e16dc0b2136ee126b5b26bea18a8846ea371dab"
  },
  "kernelspec": {
   "display_name": "Python 3.9.12 ('synbio')",
   "language": "python",
   "name": "python3"
  },
  "language_info": {
   "codemirror_mode": {
    "name": "ipython",
    "version": 3
   },
   "file_extension": ".py",
   "mimetype": "text/x-python",
   "name": "python",
   "nbconvert_exporter": "python",
   "pygments_lexer": "ipython3",
   "version": "3.9.12"
  },
  "orig_nbformat": 4
 },
 "nbformat": 4,
 "nbformat_minor": 2
}
